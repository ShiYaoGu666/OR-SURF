{
 "cells": [
  {
   "cell_type": "markdown",
   "metadata": {},
   "source": [
    "# Step 01: Patient Arrival Model\n",
    "Here we construct a Patient Arrival Model, randomly generating a set of arrival times. Based on the assumed working hours, which are 8:00 AM to 5:00 PM, we will truncate the data accordingly."
   ]
  },
  {
   "cell_type": "code",
   "execution_count": 1,
   "metadata": {},
   "outputs": [],
   "source": [
    "import numpy as np\n",
    "def generate_patient_arrivals(mean_interarrival_time=10):\n",
    "    \"\"\"\n",
    "    Generate patient arrivals based on an exponential distribution of interarrival times.\n",
    "    \n",
    "    Parameters:\n",
    "    mean_interarrival_time (int): The mean time between arrivals, in minutes.\n",
    "    total_time (int): The total simulation time, in minutes (default is 720 minutes, equivalent to 12 hours).\n",
    "    \n",
    "    Returns:\n",
    "    arrival_times (numpy array): An array of patient arrival times within the specified total time.\n",
    "    total_patients (int): The total number of patients arriving within the specified total time.\n",
    "    \"\"\"\n",
    "    \n",
    "    # Generate interarrival times following an exponential distribution\n",
    "    interarrival_times = np.random.exponential(scale=mean_interarrival_time, size=10000)\n",
    "    \n",
    "    # Calculate the arrival time for each patient\n",
    "    arrival_times = np.cumsum(interarrival_times)\n",
    "    \n",
    "    # Only keep arrival times within the total time of 540 minutes\n",
    "    arrival_times = arrival_times[arrival_times <= 540]\n",
    "    \n",
    "    # Round the arrival times to the nearest integer\n",
    "    arrival_times = np.round(arrival_times).astype(int)\n",
    "    \n",
    "    # Calculate the total number of patients\n",
    "    total_patients = len(arrival_times)\n",
    "    \n",
    "    return arrival_times, total_patients"
   ]
  },
  {
   "cell_type": "markdown",
   "metadata": {},
   "source": [
    "Below, we will conduct a simple test of this program:"
   ]
  },
  {
   "cell_type": "code",
   "execution_count": 2,
   "metadata": {},
   "outputs": [
    {
     "name": "stdout",
     "output_type": "stream",
     "text": [
      "Patient Arrival Times Vector: [ 12  20  27  35  39  50  56  58  60  87  87  99 107 142 146 159 170 175\n",
      " 181 184 191 197 200 204 207 223 236 237 240 243 245 252 256 262 269 275\n",
      " 277 283 299 302 307 363 367 385 425 427 428 481 492 501 529 537 539 539]\n",
      "Total Number of Patients: 54\n"
     ]
    }
   ],
   "source": [
    "arrival_times_test, total_patients_test = generate_patient_arrivals()\n",
    "print(\"Patient Arrival Times Vector:\", arrival_times_test)\n",
    "print(\"Total Number of Patients:\", total_patients_test)"
   ]
  },
  {
   "cell_type": "markdown",
   "metadata": {},
   "source": [
    "To improve the readability of this code, the following method converts the data into the HH:MM time format."
   ]
  },
  {
   "cell_type": "code",
   "execution_count": 3,
   "metadata": {},
   "outputs": [],
   "source": [
    "def time_from_minutes(minutes_vector):\n",
    "    \"\"\"\n",
    "    Convert a vector of minutes from 8:00 into a vector of times in HH:MM format.\n",
    "    \n",
    "    Parameters:\n",
    "    minutes_vector (np.ndarray): A NumPy array containing integers representing the minutes passed since 8:00.\n",
    "    \n",
    "    Returns:\n",
    "    np.ndarray: A NumPy array containing strings in HH:MM format representing the current time.\n",
    "    \"\"\"\n",
    "    base_hour = 8\n",
    "    base_minute = 0\n",
    "    \n",
    "    def convert_minutes_to_time(minutes):\n",
    "        total_minutes = base_hour * 60 + base_minute + minutes\n",
    "        hours = (total_minutes // 60) % 24\n",
    "        minutes = total_minutes % 60\n",
    "        return f\"{hours:02}:{minutes:02}\"\n",
    "    \n",
    "    time_vector = np.vectorize(convert_minutes_to_time)(minutes_vector)\n",
    "    return time_vector"
   ]
  },
  {
   "cell_type": "markdown",
   "metadata": {},
   "source": [
    "Then we do a quick test:"
   ]
  },
  {
   "cell_type": "code",
   "execution_count": 4,
   "metadata": {},
   "outputs": [
    {
     "name": "stdout",
     "output_type": "stream",
     "text": [
      "Patient Arrival Times Vector: ['08:12' '08:20' '08:27' '08:35' '08:39' '08:50' '08:56' '08:58' '09:00'\n",
      " '09:27' '09:27' '09:39' '09:47' '10:22' '10:26' '10:39' '10:50' '10:55'\n",
      " '11:01' '11:04' '11:11' '11:17' '11:20' '11:24' '11:27' '11:43' '11:56'\n",
      " '11:57' '12:00' '12:03' '12:05' '12:12' '12:16' '12:22' '12:29' '12:35'\n",
      " '12:37' '12:43' '12:59' '13:02' '13:07' '14:03' '14:07' '14:25' '15:05'\n",
      " '15:07' '15:08' '16:01' '16:12' '16:21' '16:49' '16:57' '16:59' '16:59']\n"
     ]
    }
   ],
   "source": [
    "arrival_times_modified = time_from_minutes(arrival_times_test)\n",
    "print(\"Patient Arrival Times Vector:\", arrival_times_modified)"
   ]
  },
  {
   "cell_type": "markdown",
   "metadata": {},
   "source": [
    "# Step 02: All other parameters"
   ]
  },
  {
   "cell_type": "markdown",
   "metadata": {},
   "source": [
    "Here we list all other parameters we need: \n",
    "\n",
    "1. Time spent in Reception or Precheck\n",
    "2. Scores of PHQ-9\n",
    "3. Scores of GAD-7\n",
    "4. Time to the offline\n",
    "5. Transition to in-person? (Effective only for data where both PHQ and GAD scores are less than 10. For others that were initially in-person, mark as `TRUE`.)\n",
    "6. Diagnosis Time (related to PHQ and GAD, as shown in the table below:)\n",
    "\n",
    "(Sum PHQ and GAD to get score range)\n",
    "\n",
    "| Score range | Period(min) |\n",
    "|-------------|-------------|\n",
    "| 0-8         | 1-15        |\n",
    "| 9-18        | 15-25       |\n",
    "| 19-28       | 25-35       |\n",
    "| 29-38       | 35-45       |\n",
    "| >39         | 45-60       |\n",
    "\n",
    "For that the last two parameters are based on the first four parameters, we first give codes to generate data of parameter 1234. "
   ]
  },
  {
   "cell_type": "markdown",
   "metadata": {},
   "source": [
    "- Time spent in Reception or Precheck"
   ]
  },
  {
   "cell_type": "code",
   "execution_count": 5,
   "metadata": {},
   "outputs": [],
   "source": [
    "import random\n",
    "\n",
    "def generate_time_spent_in_precheck(n):\n",
    "    \"\"\"\n",
    "    Generate a list of time_spent_in_precheck values.\n",
    "\n",
    "    Each value in the list follows a uniform distribution between 5 and 10.\n",
    "\n",
    "    Parameters:\n",
    "    n (int): The number of values to generate.\n",
    "\n",
    "    Returns:\n",
    "    list: A list of n values where each value is a float between 5 and 10.\n",
    "    \"\"\"\n",
    "    # Initialize an empty list to store the generated values\n",
    "    time_spent_in_precheck = []\n",
    "    \n",
    "    # Loop n times to generate n values\n",
    "    for _ in range(n):\n",
    "        # Generate a random float value between 5 and 10\n",
    "        value = random.uniform(5, 10)\n",
    "        # Append the generated value to the list\n",
    "        time_spent_in_precheck.append(value)\n",
    "    \n",
    "    # Round to the nearest integer\n",
    "    time_spent_in_precheck = np.round(time_spent_in_precheck).astype(int)\n",
    "    # Return the list of generated values\n",
    "    return time_spent_in_precheck"
   ]
  },
  {
   "cell_type": "markdown",
   "metadata": {},
   "source": [
    "Then we do a quick test: "
   ]
  },
  {
   "cell_type": "code",
   "execution_count": 6,
   "metadata": {},
   "outputs": [
    {
     "name": "stdout",
     "output_type": "stream",
     "text": [
      "[ 7  6  6  7  9 10  7  6  7  8]\n"
     ]
    }
   ],
   "source": [
    "test_result1 = generate_time_spent_in_precheck(10)\n",
    "print(test_result1)"
   ]
  },
  {
   "cell_type": "markdown",
   "metadata": {},
   "source": [
    "- Time to the offline"
   ]
  },
  {
   "cell_type": "code",
   "execution_count": 7,
   "metadata": {},
   "outputs": [],
   "source": [
    "def generate_time_to_offline():\n",
    "    \"\"\"\n",
    "    Generate a random time to offline value within the range 10 to 540.\n",
    "\n",
    "    Returns:\n",
    "    int: A random integer within the range 10 to 540.\n",
    "    \"\"\"\n",
    "    return int(random.uniform(10, 540))"
   ]
  },
  {
   "cell_type": "markdown",
   "metadata": {},
   "source": [
    "- Scores of PHQ-9 and GAD-7\n",
    "\n",
    "Here, we assume that the measure of depression(both PHQ and GAD) follows a normal distribution. This way, we can generate data for different categories of people by adjusting the mean and variance."
   ]
  },
  {
   "cell_type": "code",
   "execution_count": 8,
   "metadata": {},
   "outputs": [],
   "source": [
    "def generate_depression_scores(n, mu, sigma_squared,lower_bound,upper_bound):\n",
    "    \"\"\"\n",
    "    Generate a list of depression index scores.\n",
    "\n",
    "    Each score follows a normal distribution with the specified mean and variance,\n",
    "    and is constrained within the range of 0 to 49.\n",
    "\n",
    "    Parameters:\n",
    "    n (int): The number of scores to generate.\n",
    "    mu (float): The mean of the normal distribution.\n",
    "    sigma_squared (float): The variance of the normal distribution.\n",
    "\n",
    "    Returns:\n",
    "    list: A list of n scores where each score is a float between 0 and 49.\n",
    "    \"\"\"\n",
    "    # Calculate the standard deviation from the variance\n",
    "    sigma = sigma_squared ** 0.5\n",
    "    \n",
    "    # Initialize an empty list to store the generated scores\n",
    "    depression_scores = []\n",
    "    \n",
    "    # Loop n times to generate n scores\n",
    "    for _ in range(n):\n",
    "        # Generate a random score from the normal distribution\n",
    "        score = random.gauss(mu, sigma)\n",
    "        # Constrain the score within the range of 0 to 49\n",
    "        if score < lower_bound:\n",
    "            score = lower_bound\n",
    "        elif score > upper_bound:\n",
    "            score = upper_bound\n",
    "        # Append the constrained score to the list\n",
    "        depression_scores.append(score)\n",
    "    \n",
    "    # Round to the nearest integer\n",
    "    depression_scores= np.round(depression_scores).astype(int)\n",
    "    # Return the list of generated scores\n",
    "    return depression_scores"
   ]
  },
  {
   "cell_type": "markdown",
   "metadata": {},
   "source": [
    "Then we do a quick test on it."
   ]
  },
  {
   "cell_type": "code",
   "execution_count": 9,
   "metadata": {},
   "outputs": [
    {
     "name": "stdout",
     "output_type": "stream",
     "text": [
      "[ 0  6 21 20 15  5  6 14 17  1]\n",
      "[ 1  3  4  6  7  0  6 11 11 16]\n"
     ]
    }
   ],
   "source": [
    "test_result2 = generate_depression_scores(10, 8, 50, 0, 27)\n",
    "print(test_result2)\n",
    "test_result3 = generate_depression_scores(10, 8, 50, 0, 21)\n",
    "print(test_result3)"
   ]
  },
  {
   "cell_type": "markdown",
   "metadata": {},
   "source": [
    "Before moving on to the next step, we design a method to map the sum of PHQ and GAD scores to the diagnosis time."
   ]
  },
  {
   "cell_type": "code",
   "execution_count": 10,
   "metadata": {},
   "outputs": [],
   "source": [
    "def map_scores_to_periods(scores):\n",
    "    \"\"\"\n",
    "    Map each depression index score to a corresponding period based on the given table.\n",
    "\n",
    "    Parameters:\n",
    "    scores (list): A list of depression index scores.\n",
    "\n",
    "    Returns:\n",
    "    list: A list of random values within the corresponding periods for each score.\n",
    "    \"\"\"\n",
    "    # Define the mapping from score ranges to periods\n",
    "    score_to_period = [\n",
    "        (0, 8, 1, 15),\n",
    "        (9, 18, 15, 25),\n",
    "        (19, 28, 25, 35),\n",
    "        (29, 38, 35, 45),\n",
    "        (39, 49, 45, 60)\n",
    "    ]\n",
    "    \n",
    "    # Initialize an empty list to store the mapped periods\n",
    "    periods = []\n",
    "    \n",
    "    # Loop through each score in the input list\n",
    "    for score in scores:\n",
    "        # Find the corresponding period range for the score\n",
    "        for min_score, max_score, min_period, max_period in score_to_period:\n",
    "            if min_score <= score <= max_score:\n",
    "                # Generate a random value within the period range\n",
    "                period = random.uniform(min_period, max_period)\n",
    "                periods.append(period)\n",
    "                break\n",
    "    \n",
    "    # Round to the nearest integer\n",
    "    periods= np.round(periods).astype(int)\n",
    "    # Return the list of mapped periods\n",
    "    return periods\n"
   ]
  },
  {
   "cell_type": "markdown",
   "metadata": {},
   "source": [
    "Then we do a quick test: "
   ]
  },
  {
   "cell_type": "code",
   "execution_count": 11,
   "metadata": {},
   "outputs": [
    {
     "name": "stdout",
     "output_type": "stream",
     "text": [
      "[ 3 21 25 38 57]\n"
     ]
    }
   ],
   "source": [
    "test_scores = [5, 10, 20, 30, 40]\n",
    "test_result4 = map_scores_to_periods(test_scores)\n",
    "print(test_result4)"
   ]
  },
  {
   "cell_type": "markdown",
   "metadata": {},
   "source": [
    "# Step 03: Further data processing\n",
    "\n",
    "Now we will organize the above data into a matrix in this way:\n",
    "\n",
    "|Person 1     | Person 2    | ......      | \n",
    "|-------------|-------------|-------------|\n",
    "| Arrival time 1 | Arrival time 2 | ...... |\n",
    "| Time in Reception/Pre-check1      | Time in Reception/Pre-check2      |...... |\n",
    "| Score PHQ 1      | Score PHQ 2      |......|\n",
    "| Score GAD 1      | Score GAD 2     |......|\n"
   ]
  },
  {
   "cell_type": "code",
   "execution_count": 12,
   "metadata": {},
   "outputs": [],
   "source": [
    "def generate_a_data_matrix(mean=20, mu=8, var=50):\n",
    "    \"\"\"\n",
    "    This function generates a data matrix for patient information in a medical study.\n",
    "    It includes the following steps:\n",
    "    1. Generate the arrival times of the patients and the total number of patients.\n",
    "    2. Generate the time each patient spends in precheck.\n",
    "    3. Generate PHQ (Patient Health Questionnaire) depression scores for each patient.\n",
    "    4. Generate GAD (Generalized Anxiety Disorder) scores for each patient.\n",
    "    5. Stack the generated data into a matrix and return it.\n",
    "\n",
    "    Returns:\n",
    "        numpy.ndarray: A 2D array where each row corresponds to a different type of data:\n",
    "                       - Arrival times\n",
    "                       - Time spent in precheck\n",
    "                       - PHQ scores\n",
    "                       - GAD scores\n",
    "    \"\"\"\n",
    "    arrival_times, total_patients = generate_patient_arrivals(mean)\n",
    "    time_in_precheck = generate_time_spent_in_precheck(total_patients)\n",
    "    PHQ = generate_depression_scores(total_patients, mu, var, 0, 27)\n",
    "    GAD = generate_depression_scores(total_patients, mu, var, 0, 21)\n",
    "    \n",
    "    return np.vstack((arrival_times, time_in_precheck, PHQ, GAD))"
   ]
  },
  {
   "cell_type": "markdown",
   "metadata": {},
   "source": [
    "Then we do a quick test"
   ]
  },
  {
   "cell_type": "code",
   "execution_count": 13,
   "metadata": {},
   "outputs": [
    {
     "name": "stdout",
     "output_type": "stream",
     "text": [
      "[[ 54  60  94 110 111 122 140 151 157 161 165 174 188 193 205 211 234 238\n",
      "  263 281 318 343 343 371 391 418 440]\n",
      " [  6   6   6   8   8   9   7   8   8   9   8   8   8  10   9   7   6  10\n",
      "    8   8   7   9   6   6   7   7   8]\n",
      " [  0   6  14   9   5  14   4  13  15   6  10   0  16   0   1  11   2  11\n",
      "    7   4   0  17   4   6  11  15  14]\n",
      " [ 12   0  12  15   0   8   7   9   5   9  17   0  10   1   8   0  11  12\n",
      "   17   4  16   1   6   0   8   6  14]]\n"
     ]
    }
   ],
   "source": [
    "print(generate_a_data_matrix())"
   ]
  },
  {
   "cell_type": "markdown",
   "metadata": {},
   "source": [
    "Now, we will try to simulate the situation of transitioning to offline. The approach is as follows:\n",
    "\n",
    "1.\tWe consider the people transitioning to offline as new patients. However, since they must directly go through offline channels to enter the system, we assign them a mandatory offline tag.\n",
    "2.\tNow, for programming purposes, we understand the condition for this mandatory offline tag: it is possible to obtain the mandatory offline tag if both indicators are below 10.\n",
    "3.\tFor general patients, they do not have the mandatory offline tag.\n",
    "4.\tIf they have the mandatory offline tag, it is marked as `True`. If not, it is marked as `False`."
   ]
  },
  {
   "cell_type": "code",
   "execution_count": 14,
   "metadata": {},
   "outputs": [],
   "source": [
    "def add_mandatory_offline_tag(matrix, n):\n",
    "    \"\"\"\n",
    "    Add a mandatory offline tag to the given matrix.\n",
    "\n",
    "    If the values in the third and fourth rows are both less than 10, \n",
    "    add a fifth row with a True value with a probability of n, otherwise False.\n",
    "\n",
    "    Parameters:\n",
    "    matrix (numpy.ndarray): A 4xN matrix of integers.\n",
    "    n (float): The probability of adding True if the condition is met.\n",
    "\n",
    "    Returns:\n",
    "    numpy.ndarray: The modified matrix with an added fifth row.\n",
    "    \"\"\"\n",
    "    \n",
    "    # Initialize an empty list to store the fifth row values\n",
    "    mandatory_offline_tag = []\n",
    "    \n",
    "    # Loop through each column in the matrix\n",
    "    for i in range(matrix.shape[1]):\n",
    "        # Get the values from the third and fourth rows\n",
    "        third_row_value = matrix[2, i]\n",
    "        fourth_row_value = matrix[3, i]\n",
    "        \n",
    "        # Check if both values are less than 10\n",
    "        if third_row_value < 10 and fourth_row_value < 10:\n",
    "            # Add True with a probability of n, otherwise False\n",
    "            tag = np.random.rand() < n\n",
    "        else:\n",
    "            # Add False if the condition is not met\n",
    "            tag = False\n",
    "        \n",
    "        # Append the tag to the list\n",
    "        mandatory_offline_tag.append(tag)\n",
    "    \n",
    "    # Convert the list to a numpy array and reshape to a row vector\n",
    "    mandatory_offline_tag = np.array(mandatory_offline_tag).reshape(1, -1)\n",
    "    \n",
    "    # Append the fifth row to the input matrix\n",
    "    modified_matrix = np.vstack((matrix, mandatory_offline_tag))\n",
    "    \n",
    "    return modified_matrix"
   ]
  },
  {
   "cell_type": "markdown",
   "metadata": {},
   "source": [
    "Then we do a quick test: "
   ]
  },
  {
   "cell_type": "code",
   "execution_count": 15,
   "metadata": {},
   "outputs": [
    {
     "name": "stdout",
     "output_type": "stream",
     "text": [
      "[[ 29  37  37  81  84 102 137 154 156 172 196 207 260 279 308 328 340 369\n",
      "  411 433 446 455 497 504 528]\n",
      " [  9   8   7   8   9   8  10   8   5   9   6   6  10   8   7   9   7   6\n",
      "    9   6   6   8   9   5   5]\n",
      " [  3  14  17   7  15  14   3  22   4   9   7  16  13   8   7   6  14   6\n",
      "   10  11  17  16  17   3  20]\n",
      " [  9  12   0   8   0  12  13   7  16   3  21   7   0  17   9   6   0   0\n",
      "   15   7   9  19   4  11   0]\n",
      " [  0   0   0   0   0   0   0   0   0   0   0   0   0   0   0   1   0   0\n",
      "    0   0   0   0   0   0   0]]\n"
     ]
    }
   ],
   "source": [
    "print(add_mandatory_offline_tag(generate_a_data_matrix(),0.2))"
   ]
  },
  {
   "cell_type": "markdown",
   "metadata": {},
   "source": [
    "Now, based on the above results, we will update the matrix, keeping only the times when patients visit the clinic."
   ]
  },
  {
   "cell_type": "code",
   "execution_count": 16,
   "metadata": {},
   "outputs": [],
   "source": [
    "def update_matrix_with_offline_times(matrix):\n",
    "    \"\"\"\n",
    "    Update the given matrix by adding a time to offline value to the first row \n",
    "    if the corresponding column in the last row is marked as True.\n",
    "\n",
    "    Parameters:\n",
    "    matrix (numpy.ndarray): A 5xN matrix where the last row contains True/False values.\n",
    "\n",
    "    Returns:\n",
    "    numpy.ndarray: The modified matrix with updated values in the first row.\n",
    "    \"\"\"\n",
    "    # Check if the input matrix has 5 rows\n",
    "    if matrix.shape[0] != 5:\n",
    "        raise ValueError(\"The input matrix must have 5 rows.\")\n",
    "    \n",
    "    # Loop through each column in the matrix\n",
    "    for i in range(matrix.shape[1]):\n",
    "        # Check if the last row in the current column is True\n",
    "        if matrix[4, i]:\n",
    "            # Generate a random time to offline value\n",
    "            time_to_offline_value = generate_time_to_offline()\n",
    "            # Add the generated value to the first row of the current column\n",
    "            matrix[0, i] += time_to_offline_value\n",
    "    \n",
    "    return matrix"
   ]
  },
  {
   "cell_type": "markdown",
   "metadata": {},
   "source": [
    "Then we do a quick test:"
   ]
  },
  {
   "cell_type": "code",
   "execution_count": 17,
   "metadata": {},
   "outputs": [
    {
     "name": "stdout",
     "output_type": "stream",
     "text": [
      "[[ 13  82  87  95 102 109 205 220 229 393 393 419 440 719 474 475 502 505\n",
      "  526 533]\n",
      " [  8  10  10   7   6   9   6  10  10   8   7   8   6   9   7   7   7   6\n",
      "    9   8]\n",
      " [ 20  16   4   9   1   5  17   9   2  10   9   0  15   5  20  11  18  14\n",
      "    3  10]\n",
      " [  8   0  12  10  12   6  17   5  21   1   5  18   5   6   3  13  16   2\n",
      "    1  15]\n",
      " [  0   0   0   0   0   0   0   0   0   0   0   0   0   1   0   0   0   0\n",
      "    0   0]]\n"
     ]
    }
   ],
   "source": [
    "print(update_matrix_with_offline_times(add_mandatory_offline_tag(generate_a_data_matrix(), 0.2)))"
   ]
  },
  {
   "cell_type": "markdown",
   "metadata": {},
   "source": [
    "The final step is to remove all patients who meet the conditions for online consultations, unless the patient has a mandatory offline tag."
   ]
  },
  {
   "cell_type": "code",
   "execution_count": 18,
   "metadata": {},
   "outputs": [],
   "source": [
    "def remove_online_patients(matrix):\n",
    "    \"\"\"\n",
    "    Delete columns from the matrix where:\n",
    "    1. Both values in the third and fourth rows are less than 10.\n",
    "    2. The value in the last row (fifth row) is False.\n",
    "\n",
    "    Parameters:\n",
    "    matrix (numpy.ndarray): A 5xN matrix.\n",
    "\n",
    "    Returns:\n",
    "    numpy.ndarray: The modified matrix with columns deleted based on the conditions.\n",
    "    \"\"\"\n",
    "    # Check if the input matrix has 5 rows\n",
    "    if matrix.shape[0] != 5:\n",
    "        raise ValueError(\"The input matrix must have 5 rows.\")\n",
    "    \n",
    "    # Initialize a list to keep track of columns to keep\n",
    "    columns_to_keep = []\n",
    "    \n",
    "    # Loop through each column in the matrix\n",
    "    for i in range(matrix.shape[1]):\n",
    "        # Get the values from the third and fourth rows\n",
    "        third_row_value = matrix[2, i]\n",
    "        fourth_row_value = matrix[3, i]\n",
    "        # Get the value from the last row\n",
    "        last_row_value = matrix[4, i]\n",
    "        \n",
    "        # Check the conditions for keeping the column\n",
    "        if not (third_row_value < 10 and fourth_row_value < 10 and last_row_value == False):\n",
    "            columns_to_keep.append(i)\n",
    "    \n",
    "    # Create a new matrix with only the columns to keep\n",
    "    modified_matrix = matrix[:, columns_to_keep]\n",
    "    \n",
    "    return modified_matrix"
   ]
  },
  {
   "cell_type": "code",
   "execution_count": 19,
   "metadata": {},
   "outputs": [
    {
     "name": "stdout",
     "output_type": "stream",
     "text": [
      "[[ 28  54  66  69  73  81  89 120 171 191 200 223 369 241 241 353 279 288\n",
      "  298 300 328 398 412 430 461 492 536 529]\n",
      " [  9  10   7   5   9  10   9  10   9   8   6   7   8   8   7   6   7   9\n",
      "    8   6   5   8   6   5   9   9  10   5]\n",
      " [  0  16   7   6  12  11  14   8  20  12   3   1   6  15  10   7  14   8\n",
      "    0  18   6   6  12   5  21  13   3  13]\n",
      " [ 11   0  10   1   2   5  11  12   3   0   2  17   4  20   9   6  10   0\n",
      "   11   0   0   5  11   2   0   8   5  17]\n",
      " [  0   0   0   0   0   0   0   0   0   0   0   0   1   0   0   1   0   0\n",
      "    0   0   0   0   0   0   0   0   1   0]]\n",
      "[[ 28  54  66  73  81  89 120 171 191 223 369 241 241 353 279 298 300 412\n",
      "  461 492 536 529]\n",
      " [  9  10   7   9  10   9  10   9   8   7   8   8   7   6   7   8   6   6\n",
      "    9   9  10   5]\n",
      " [  0  16   7  12  11  14   8  20  12   1   6  15  10   7  14   0  18  12\n",
      "   21  13   3  13]\n",
      " [ 11   0  10   2   5  11  12   3   0  17   4  20   9   6  10  11   0  11\n",
      "    0   8   5  17]\n",
      " [  0   0   0   0   0   0   0   0   0   0   1   0   0   1   0   0   0   0\n",
      "    0   0   1   0]]\n"
     ]
    }
   ],
   "source": [
    "test_data = update_matrix_with_offline_times(add_mandatory_offline_tag(generate_a_data_matrix(), 0.2))\n",
    "print(test_data)\n",
    "test_data2 = remove_online_patients(test_data)\n",
    "print(test_data2)"
   ]
  },
  {
   "cell_type": "markdown",
   "metadata": {},
   "source": [
    "Then we do not need the tag any more."
   ]
  },
  {
   "cell_type": "code",
   "execution_count": 20,
   "metadata": {},
   "outputs": [],
   "source": [
    "def remove_last_row(matrix):\n",
    "    \"\"\"\n",
    "    Remove the last row from the given matrix.\n",
    "\n",
    "    Parameters:\n",
    "    matrix (numpy.ndarray): An MxN matrix.\n",
    "\n",
    "    Returns:\n",
    "    numpy.ndarray: The modified matrix with the last row removed.\n",
    "    \"\"\"\n",
    "    # Check if the matrix has more than one row\n",
    "    if matrix.shape[0] < 2:\n",
    "        raise ValueError(\"The matrix must have at least two rows to remove the last one.\")\n",
    "    \n",
    "    # Remove the last row using numpy slicing\n",
    "    modified_matrix = matrix[:-1, :]\n",
    "    \n",
    "    return modified_matrix"
   ]
  },
  {
   "cell_type": "markdown",
   "metadata": {},
   "source": [
    "Then we do a quick test:"
   ]
  },
  {
   "cell_type": "code",
   "execution_count": 21,
   "metadata": {},
   "outputs": [
    {
     "name": "stdout",
     "output_type": "stream",
     "text": [
      "[[ 28  54  66  73  81  89 120 171 191 223 369 241 241 353 279 298 300 412\n",
      "  461 492 536 529]\n",
      " [  9  10   7   9  10   9  10   9   8   7   8   8   7   6   7   8   6   6\n",
      "    9   9  10   5]\n",
      " [  0  16   7  12  11  14   8  20  12   1   6  15  10   7  14   0  18  12\n",
      "   21  13   3  13]\n",
      " [ 11   0  10   2   5  11  12   3   0  17   4  20   9   6  10  11   0  11\n",
      "    0   8   5  17]]\n"
     ]
    }
   ],
   "source": [
    "test_data3 = remove_last_row(test_data2)\n",
    "print(test_data3)"
   ]
  },
  {
   "cell_type": "markdown",
   "metadata": {},
   "source": [
    "Now, we will sort the arrival times again in ascending order and remove items greater than 540."
   ]
  },
  {
   "cell_type": "code",
   "execution_count": 22,
   "metadata": {},
   "outputs": [],
   "source": [
    "def remove_columns_and_sort(matrix):\n",
    "    \"\"\"\n",
    "    Remove columns from the matrix where the first row has values greater than 540,\n",
    "    then sort the matrix based on the first row in ascending order.\n",
    "\n",
    "    Parameters:\n",
    "    matrix (numpy.ndarray): An MxN matrix.\n",
    "\n",
    "    Returns:\n",
    "    numpy.ndarray: The modified matrix with columns removed and sorted.\n",
    "    \"\"\"\n",
    "    # Remove columns where the first row has values greater than 540\n",
    "    filtered_matrix = matrix[:, matrix[0, :] <= 540]\n",
    "    \n",
    "    # Sort the matrix based on the first row\n",
    "    sorted_indices = np.argsort(filtered_matrix[0, :])\n",
    "    sorted_matrix = filtered_matrix[:, sorted_indices]\n",
    "    \n",
    "    return sorted_matrix"
   ]
  },
  {
   "cell_type": "markdown",
   "metadata": {},
   "source": [
    "Then we do quick test: "
   ]
  },
  {
   "cell_type": "code",
   "execution_count": 23,
   "metadata": {},
   "outputs": [
    {
     "name": "stdout",
     "output_type": "stream",
     "text": [
      "[[ 28  54  66  73  81  89 120 171 191 223 369 241 241 353 279 298 300 412\n",
      "  461 492 536 529]\n",
      " [  9  10   7   9  10   9  10   9   8   7   8   8   7   6   7   8   6   6\n",
      "    9   9  10   5]\n",
      " [  0  16   7  12  11  14   8  20  12   1   6  15  10   7  14   0  18  12\n",
      "   21  13   3  13]\n",
      " [ 11   0  10   2   5  11  12   3   0  17   4  20   9   6  10  11   0  11\n",
      "    0   8   5  17]]\n",
      "[[ 28  54  66  73  81  89 120 171 191 223 241 241 279 298 300 353 369 412\n",
      "  461 492 529 536]\n",
      " [  9  10   7   9  10   9  10   9   8   7   8   7   7   8   6   6   8   6\n",
      "    9   9   5  10]\n",
      " [  0  16   7  12  11  14   8  20  12   1  15  10  14   0  18   7   6  12\n",
      "   21  13  13   3]\n",
      " [ 11   0  10   2   5  11  12   3   0  17  20   9  10  11   0   6   4  11\n",
      "    0   8  17   5]]\n"
     ]
    }
   ],
   "source": [
    "test_data4 = remove_columns_and_sort(test_data3)\n",
    "print(test_data3)\n",
    "print(test_data4)"
   ]
  },
  {
   "cell_type": "markdown",
   "metadata": {},
   "source": [
    "Finally, we use a comprehensive method to integrate all the above methods."
   ]
  },
  {
   "cell_type": "code",
   "execution_count": 24,
   "metadata": {},
   "outputs": [],
   "source": [
    "def convert_to_offline_patient_data(data0,n):\n",
    "    \"\"\"\n",
    "    This function generates and processes a data matrix for offline patients in a medical study.\n",
    "    The steps include:\n",
    "    1. Generate the initial data matrix for patients.\n",
    "    2. Add a mandatory offline tag to the data matrix.\n",
    "    3. Update the matrix with offline times for patients.\n",
    "    4. Remove data for online patients from the matrix.\n",
    "    5. Remove the last row of the matrix.\n",
    "    6. Remove specific columns and sort the matrix.\n",
    "\n",
    "    Parameters:\n",
    "        n (int): The number of patients to process for offline tagging.\n",
    "\n",
    "    Returns:\n",
    "        numpy.ndarray: A processed 2D array for offline patients with specified transformations applied.\n",
    "    \"\"\"\n",
    "    data1 = add_mandatory_offline_tag(data0, n)\n",
    "    data2 = update_matrix_with_offline_times(data1)\n",
    "    data3 = remove_online_patients(data2)\n",
    "    data4 = remove_last_row(data3)\n",
    "    data5 = remove_columns_and_sort(data4)\n",
    "\n",
    "    return data5"
   ]
  },
  {
   "cell_type": "markdown",
   "metadata": {},
   "source": [
    "Finnally we do a quick test to finish this step."
   ]
  },
  {
   "cell_type": "code",
   "execution_count": 25,
   "metadata": {},
   "outputs": [
    {
     "name": "stdout",
     "output_type": "stream",
     "text": [
      "[[ 17  60  62  70  98 100 174 196 201 204 229 231 249 256 295 306 331 346\n",
      "  370 382 406 423 425 429 473 536 539]\n",
      " [  5   5   5   8   7   8   7  10   7   9   9   9   7   6   7   9   6   8\n",
      "    5   6  10   8   8   6   7   6   6]\n",
      " [ 11   1  18  15  16   0   6   4   0   1   0  12  11   8  17   0   9  13\n",
      "    0  20   5   2  11   6   1  13   0]\n",
      " [ 21   6  13   9   8   0  16  14  13   5  15   1   9  11  20   1   5  11\n",
      "   16   1  14   8   6   3  10  19  17]]\n",
      "[[ 17  62  70  98 174 196 201 229 231 249 256 295 346 370 382 406 425 473\n",
      "  536 539]\n",
      " [  5   5   8   7   7  10   7   9   9   7   6   7   8   5   6  10   8   7\n",
      "    6   6]\n",
      " [ 11  18  15  16   6   4   0   0  12  11   8  17  13   0  20   5  11   1\n",
      "   13   0]\n",
      " [ 21  13   9   8  16  14  13  15   1   9  11  20  11  16   1  14   6  10\n",
      "   19  17]]\n"
     ]
    }
   ],
   "source": [
    "final_test_data = generate_a_data_matrix()\n",
    "print(final_test_data)\n",
    "print(convert_to_offline_patient_data(final_test_data,0.2))"
   ]
  },
  {
   "cell_type": "markdown",
   "metadata": {},
   "source": [
    "# Step 04: Construction of the Queuing Model\n",
    "\n",
    "Our previous steps have provided a data matrix structured as shown below.\n",
    "|Person 1     | Person 2    | ......      | \n",
    "|-------------|-------------|-------------|\n",
    "| Arrival time 1 | Arrival time 2 | ...... |\n",
    "| Time in Reception/Pre-check1      | Time in Reception/Pre-check2      |...... |\n",
    "| Score PHQ 1      | Score PHQ 2      |......|\n",
    "| Score GAD 1      | Score GAD 2     |......|\n",
    "\n",
    "Regardless of whether it is for a purely offline method or for a method incorporating online consultations, this matrix remains consistent. For the online scenario, the model transitions to offline using the above methods.\n",
    "\n",
    "To be precise, for a given data matrix(data0): \n",
    "\n",
    "- Case 1: Purely offline\n",
    "\n",
    "Use the quening model directly\n",
    "\n",
    "- Case 2: With online\n",
    "\n",
    "Apply `convert_to_offline_patient_data(data0,n)` $\\Rightarrow$ Use the quening model"
   ]
  },
  {
   "cell_type": "markdown",
   "metadata": {},
   "source": [
    "First, we transform the matrix into the following form:\n",
    "|Person 1     | Person 2    | ......      | \n",
    "|-------------|-------------|-------------|\n",
    "| Arrival time 1 + Time in Reception/Pre-check1    | Arrival time 2 + Time in Reception/Pre-check2  | ...... |\n",
    "| Diagnosis time 1   | Diagnosis time 2     |......|\n",
    "\n",
    "In this matrix, the first row of data represents the time patients start waiting, and the second row of data represents the time needed for diagnosis.\n",
    "\n"
   ]
  },
  {
   "cell_type": "code",
   "execution_count": 26,
   "metadata": {},
   "outputs": [],
   "source": [
    "def final_transformation(matrix):\n",
    "    \"\"\"\n",
    "    Transform the given matrix as per the specified rules.\n",
    "\n",
    "    1. Sum the first and second rows to get the first row of the new matrix.\n",
    "    2. Sum the third and fourth rows and apply map_scores_to_periods method to get the second row of the new matrix.\n",
    "    3. Sort the matrix based on the first row in ascending order.\n",
    "\n",
    "    Parameters:\n",
    "    matrix (numpy.ndarray): An MxN matrix.\n",
    "\n",
    "    Returns:\n",
    "    numpy.ndarray: The transformed matrix.\n",
    "    \"\"\"\n",
    "    # Check if the matrix has at least 4 rows\n",
    "    if matrix.shape[0] < 4:\n",
    "        raise ValueError(\"The input matrix must have at least 4 rows.\")\n",
    "    \n",
    "    # Sum the first and second rows\n",
    "    first_row = matrix[0, :] + matrix[1, :]\n",
    "    \n",
    "    # Sum the third and fourth rows\n",
    "    summed_scores = matrix[2, :] + matrix[3, :]\n",
    "    \n",
    "    # Apply map_scores_to_periods to the summed scores\n",
    "    second_row = map_scores_to_periods(summed_scores)\n",
    "    \n",
    "    # Convert second_row to numpy array for consistency\n",
    "    second_row = np.array(second_row)\n",
    "    \n",
    "    # Combine the new first and second rows into a new matrix\n",
    "    transformed_matrix = np.vstack((first_row, second_row))\n",
    "    \n",
    "    # Sort the matrix based on the first row\n",
    "    sorted_indices = np.argsort(transformed_matrix[0, :])\n",
    "    sorted_matrix = transformed_matrix[:, sorted_indices]\n",
    "    \n",
    "    return sorted_matrix"
   ]
  },
  {
   "cell_type": "markdown",
   "metadata": {},
   "source": [
    "Then we do a quick test: "
   ]
  },
  {
   "cell_type": "code",
   "execution_count": 27,
   "metadata": {},
   "outputs": [
    {
     "name": "stdout",
     "output_type": "stream",
     "text": [
      "[[ 22  65  67  78 105 108 181 206 208 213 238 240 256 262 302 315 337 354\n",
      "  375 388 416 431 433 435 480 542 545]\n",
      " [ 44   5  43  29  33  12  33  15  21   2  25  19  33  30  45   8  22  31\n",
      "   24  31  25  22  16  20  20  39  24]]\n"
     ]
    }
   ],
   "source": [
    "final_test_data2 = final_transformation(final_test_data)\n",
    "print(final_test_data2)"
   ]
  },
  {
   "cell_type": "code",
   "execution_count": 28,
   "metadata": {},
   "outputs": [],
   "source": [
    "def queuing_model(matrix):\n",
    "    \"\"\"\n",
    "    Calculate the actual service start times for each patient based on their arrival and service times.\n",
    "\n",
    "    Parameters:\n",
    "    matrix (numpy.ndarray): A 2xN matrix where the first row represents arrival times and the second row represents service times.\n",
    "\n",
    "    Returns:\n",
    "    numpy.ndarray: A vector representing the actual service start times for each patient.\n",
    "    \"\"\"\n",
    "    # Check if the matrix has exactly 2 rows\n",
    "    if matrix.shape[0] != 2:\n",
    "        raise ValueError(\"The input matrix must have 2 rows.\")\n",
    "    \n",
    "    # Extract the arrival and service times\n",
    "    arrival_times = matrix[0, :]\n",
    "    service_times = matrix[1, :]\n",
    "    \n",
    "    # Initialize an array to store the actual service start times\n",
    "    actual_service_times = np.zeros_like(arrival_times)\n",
    "    \n",
    "    # Initialize the time when the next patient can be served\n",
    "    next_available_time = 0\n",
    "    \n",
    "    # Loop through each patient\n",
    "    for i in range(arrival_times.shape[0]):\n",
    "        # Calculate the actual service start time for the current patient\n",
    "        if arrival_times[i] >= next_available_time:\n",
    "            # If the patient arrives after or when the server is available\n",
    "            actual_service_times[i] = arrival_times[i]\n",
    "        else:\n",
    "            # If the patient arrives before the server is available\n",
    "            actual_service_times[i] = next_available_time\n",
    "        \n",
    "        # Update the next available time\n",
    "        next_available_time = actual_service_times[i] + service_times[i]\n",
    "    \n",
    "    return actual_service_times"
   ]
  },
  {
   "cell_type": "markdown",
   "metadata": {},
   "source": [
    "Then we do a quick test:\n",
    "\n",
    "Here we temporarily discard the above test data and regenerate test data to simulate both high and low patient numbers to ensure this step is correct."
   ]
  },
  {
   "cell_type": "code",
   "execution_count": 29,
   "metadata": {},
   "outputs": [
    {
     "name": "stdout",
     "output_type": "stream",
     "text": [
      "[[ 37 130 136 226 239 349 420]\n",
      " [ 23  22  25  24  33   7  34]]\n",
      "[ 37 130 152 226 250 349 420]\n"
     ]
    }
   ],
   "source": [
    "low_patient_numbers_test = final_transformation(generate_a_data_matrix(50))\n",
    "print(low_patient_numbers_test)\n",
    "print(queuing_model(low_patient_numbers_test))\n"
   ]
  },
  {
   "cell_type": "markdown",
   "metadata": {},
   "source": [
    "It looks good! \n",
    "\n",
    "Then we do another one."
   ]
  },
  {
   "cell_type": "code",
   "execution_count": 30,
   "metadata": {},
   "outputs": [
    {
     "name": "stdout",
     "output_type": "stream",
     "text": [
      "[[ 10  18  24  30  46  62  69  71  82  90  90  91  94  98 103 108 115 117\n",
      "  127 130 135 149 156 157 174 188 201 206 252 262 271 277 291 325 335 365\n",
      "  373 383 385 429 429 451 457 465 479 494 497 500 503 506 513 514 519 525\n",
      "  526 545]\n",
      " [ 18  21  16  38  41  30   9   4  17  25  20   7  26  32  22  25  26  19\n",
      "   30  29  28  38  39   4  13   7  23  30   2  34  10  22  22  25  26  17\n",
      "    5  34  16  28  37  17  17  12  20  18  33  26  38  20  22  14  37  19\n",
      "   31  33]]\n",
      "[  10   28   49   65  103  144  174  183  187  204  229  249  256  282\n",
      "  314  336  361  387  406  436  465  493  531  570  574  587  594  617\n",
      "  647  649  683  693  715  737  762  788  805  810  844  860  888  925\n",
      "  942  959  971  991 1009 1042 1068 1106 1126 1148 1162 1199 1218 1249]\n"
     ]
    }
   ],
   "source": [
    "high_patient_numbers_test = final_transformation(generate_a_data_matrix(10))\n",
    "print(high_patient_numbers_test)\n",
    "print(queuing_model(high_patient_numbers_test))"
   ]
  },
  {
   "cell_type": "markdown",
   "metadata": {},
   "source": [
    "It looks good as well! \n",
    "\n",
    "Next, we move on to the final step, which is calculating the waiting time."
   ]
  },
  {
   "cell_type": "code",
   "execution_count": 31,
   "metadata": {},
   "outputs": [],
   "source": [
    "def calculate_waiting_time(matrix):\n",
    "    \"\"\"\n",
    "    Calculate the average waiting time for patients based on their arrival and service times.\n",
    "\n",
    "    Parameters:\n",
    "    matrix (numpy.ndarray): A 2xN matrix where the first row represents arrival times and the second row represents service times.\n",
    "\n",
    "    Returns:\n",
    "    float: The average waiting time for patients.\n",
    "    \"\"\"\n",
    "    # Extract the first row as the arrival times vector\n",
    "    arrival_times = matrix[0, :]\n",
    "    \n",
    "    # Apply the queuing_model function to get the actual service start times vector\n",
    "    service_start_times = queuing_model(matrix)\n",
    "    \n",
    "    # Calculate the waiting times by subtracting arrival times from service start times\n",
    "    waiting_times = service_start_times - arrival_times\n",
    "    \n",
    "    # Calculate the total waiting time\n",
    "    total_waiting_time = np.sum(waiting_times)\n",
    "    \n",
    "    # Calculate the average waiting time\n",
    "    average_waiting_time = total_waiting_time / waiting_times.size\n",
    "    \n",
    "    return average_waiting_time"
   ]
  },
  {
   "cell_type": "markdown",
   "metadata": {},
   "source": [
    "Then we do some quick tests: "
   ]
  },
  {
   "cell_type": "code",
   "execution_count": 32,
   "metadata": {},
   "outputs": [
    {
     "name": "stdout",
     "output_type": "stream",
     "text": [
      "3.857142857142857\n",
      "357.4642857142857\n"
     ]
    }
   ],
   "source": [
    "print(calculate_waiting_time(low_patient_numbers_test))\n",
    "print(calculate_waiting_time(high_patient_numbers_test))"
   ]
  },
  {
   "cell_type": "markdown",
   "metadata": {},
   "source": [
    "Finally, we will integrate and explain the above code to conclude this step."
   ]
  },
  {
   "cell_type": "code",
   "execution_count": 33,
   "metadata": {},
   "outputs": [],
   "source": [
    "def model_to_calculate_average_waiting_time(data):\n",
    "    \"\"\"\n",
    "    This function calculates the average waiting time for patients in a medical study.\n",
    "    The steps include:\n",
    "    1. Apply a final transformation to the input data matrix.\n",
    "    2. Calculate the average waiting time based on the transformed data.\n",
    "\n",
    "    Parameters:\n",
    "        data (numpy.ndarray): The input data matrix containing patient information.\n",
    "\n",
    "    Returns:\n",
    "        float: The calculated average waiting time for patients.\n",
    "    \"\"\"\n",
    "    data_modified = final_transformation(data)\n",
    "    average_waiting_time = calculate_waiting_time(data_modified)\n",
    "\n",
    "    return average_waiting_time"
   ]
  },
  {
   "cell_type": "markdown",
   "metadata": {},
   "source": [
    "Quick test: "
   ]
  },
  {
   "cell_type": "code",
   "execution_count": 34,
   "metadata": {},
   "outputs": [
    {
     "name": "stdout",
     "output_type": "stream",
     "text": [
      "23.444444444444443\n"
     ]
    }
   ],
   "source": [
    "final_test_data3 = generate_a_data_matrix(30)\n",
    "print(model_to_calculate_average_waiting_time(final_test_data3))"
   ]
  },
  {
   "cell_type": "markdown",
   "metadata": {},
   "source": [
    "The next step is to analyze the code. Before that, I will provide a user manual for the above code to help with modifications and usage."
   ]
  },
  {
   "cell_type": "markdown",
   "metadata": {},
   "source": [
    "# User manual for this notebook\n",
    "# 代码使用说明书："
   ]
  },
  {
   "cell_type": "markdown",
   "metadata": {},
   "source": [
    "This program has three main methods to calculate the average waiting time:\n",
    "\n",
    "- Method 1: Generate Data\n",
    "\n",
    "`def generate_a_data_matrix(mean=20, mu=8, var=50):`\n",
    "\n",
    "In this function, `mean` represents the average patient arrival time, which follows an exponential distribution. You can change this mean value to simulate scenarios with sparser traffic, for instance, by increasing this mean value.\n",
    "\n",
    "The `mu` and `var` parameters represent the mean and variance of the normal distribution for depression evaluation indices. You can change these mean and variance values to simulate scenarios where the overall severity of patients' depression is more serious, for instance, by increasing the mean.\n",
    "\n",
    "- Method 2 (for scenarios including offline situations only): Generate Offline Consultation Matrix\n",
    "\n",
    "`def convert_to_offline_patient_data(data0, n):`\n",
    "\n",
    "Here, `data0` should be the output value of the preceding method, i.e., the output value of `generate_a_data_matrix`. `n` represents the probability of converting to offline. All model structures are embedded within this method (see the code for specific implementation). This method will return data for patients requiring offline diagnosis to calculate the waiting time.\n",
    "\n",
    "- Method 3: Queueing Model and Waiting Time Calculation:\n",
    "\n",
    "`model_to_calculate_average_waiting_time(data)`\n",
    "\n",
    "Given a patient data matrix, this method will directly return the average waiting time.\n",
    "\n",
    "A typical procedure to compare the results of two models is as follows:\n",
    "\n",
    "- Step 1: Generate the data matrix `patient_data = generate_a_data_matrix(mean=20, mu=8, var=50)`\n",
    "\n",
    "- Step 2: For the online model, generate the offline consultation matrix: `offline_patient_data = convert_to_offline_patient_data(patient_data, 0.5)`\n",
    "\n",
    "- Step 3: Compare the results of the two models\n",
    "\n",
    "`print(model_to_calculate_average_waiting_time(patient_data))`\n",
    "`print(model_to_calculate_average_waiting_time(offline_patient_data))`"
   ]
  },
  {
   "cell_type": "markdown",
   "metadata": {},
   "source": [
    "本程序为了实现对于平均等待时间的计算，有三个比较主要的方法：\n",
    "- 方法一：生成数据\n",
    "\n",
    "`def generate_a_data_matrix(mean=20, mu=8, var=50):`\n",
    "\n",
    "这里面`mean`表示的是：病人到达时间，指数分布的均值，所以可以改变这个均值，比如将这个均值变大，来模拟客流量更加稀疏的情况。\n",
    "\n",
    "后面的`mu`,`var`是抑郁症评价指标，所服从的正太分布的均值和方差，可以改变均值和方差，比如将均值增大，来模拟病人总体抑郁情况严重的情况。\n",
    "\n",
    "- 方法二（仅供包含线上的情况使用）： 生成线下就诊矩阵\n",
    "\n",
    "`def convert_to_offline_patient_data(data0,n):`\n",
    "\n",
    "这里的`data0`要作为前序方法的输出值，也就是`generate_a_data_matrix`的输出值。`n`表示转为线下的概率。模型的所有结构内嵌在这个方法内（具体实现方法见代码）。这个方法将返回需要线下诊断的人数据，来计算等待时间。\n",
    "\n",
    "- 方法三：排队模型和等待时间计算：\n",
    "\n",
    "`model_to_calculate_average_waiting_time(data)`\n",
    "\n",
    "给定病人数据矩阵，该方法将直接返回平均等待时间。\n",
    "\n",
    "对于一个常规的，比较两个模型结果的方法，如下所示：\n",
    "\n",
    "- 步骤一： 生成数据矩阵`patient_data = generate_a_data_matrix(mean=20, mu=8, var=50)`\n",
    "\n",
    "- 步骤二： 对于线上模型，生成线下就诊矩阵： `offline_patient_data = convert_to_offline_patient_data(patient_data,0.5)`\n",
    "\n",
    "- 步骤三： 比较两个模型的结果 \n",
    "\n",
    "`print(model_to_calculate_average_waiting_time(patient_data))`\n",
    "`print(model_to_calculate_average_waiting_time(offline_patient_data))`\n"
   ]
  },
  {
   "cell_type": "code",
   "execution_count": 35,
   "metadata": {},
   "outputs": [
    {
     "name": "stdout",
     "output_type": "stream",
     "text": [
      "103.65517241379311\n",
      "75.68181818181819\n"
     ]
    }
   ],
   "source": [
    "patient_data = generate_a_data_matrix(mean=20, mu=8, var=50)\n",
    "offline_patient_data = convert_to_offline_patient_data(patient_data,0.2)\n",
    "print(model_to_calculate_average_waiting_time(patient_data))\n",
    "print(model_to_calculate_average_waiting_time(offline_patient_data))"
   ]
  },
  {
   "cell_type": "markdown",
   "metadata": {},
   "source": [
    "# Model Analysis"
   ]
  }
 ],
 "metadata": {
  "kernelspec": {
   "display_name": "Python3p8",
   "language": "python",
   "name": "python3"
  },
  "language_info": {
   "codemirror_mode": {
    "name": "ipython",
    "version": 3
   },
   "file_extension": ".py",
   "mimetype": "text/x-python",
   "name": "python",
   "nbconvert_exporter": "python",
   "pygments_lexer": "ipython3",
   "version": "3.8.19"
  }
 },
 "nbformat": 4,
 "nbformat_minor": 2
}
